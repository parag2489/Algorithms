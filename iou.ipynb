{
  "nbformat": 4,
  "nbformat_minor": 0,
  "metadata": {
    "colab": {
      "provenance": [],
      "authorship_tag": "ABX9TyPelLwnLG0QiTdGwL1Ra68n",
      "include_colab_link": true
    },
    "kernelspec": {
      "name": "python3",
      "display_name": "Python 3"
    },
    "language_info": {
      "name": "python"
    }
  },
  "cells": [
    {
      "cell_type": "markdown",
      "metadata": {
        "id": "view-in-github",
        "colab_type": "text"
      },
      "source": [
        "<a href=\"https://colab.research.google.com/github/parag2489/Algorithms/blob/master/iou.ipynb\" target=\"_parent\"><img src=\"https://colab.research.google.com/assets/colab-badge.svg\" alt=\"Open In Colab\"/></a>"
      ]
    },
    {
      "cell_type": "code",
      "execution_count": 1,
      "metadata": {
        "id": "sRTogY2QnLvA"
      },
      "outputs": [],
      "source": [
        "import numpy as np"
      ]
    },
    {
      "cell_type": "code",
      "source": [
        "def area(rect: np.ndarray):\n",
        "  return np.maximum(0., (rect[:, 2] - rect[:, 0]) * (rect[:, 3] - rect[:, 1]))\n",
        "\n",
        "def compute_iou(rect_1: np.ndarray, rect_2: np.ndarray):\n",
        "  rect_1 = np.reshape(rect_1, (-1, 4))\n",
        "  rect_2 = np.reshape(rect_2, (-1, 4))\n",
        "  intersection_x = np.maximum(0, np.minimum(rect_1[:, 2], rect_2[:, 2]) - np.maximum(rect_1[:, 0], rect_2[:, 0]))\n",
        "  intersection_y = np.maximum(0, np.minimum(rect_1[:, 3], rect_2[:, 3]) - np.maximum(rect_1[:, 1], rect_2[:, 1]))\n",
        "  intersection = intersection_y * intersection_x\n",
        "  union = area(rect_1) + area(rect_2) - intersection\n",
        "  iou = intersection / union\n",
        "  iou[~np.isfinite(iou)] = 0.\n",
        "  return iou\n",
        "\n",
        "rect_1 = np.array([[10, 20, 140, 150], [1, 10, 4, 11], [1, 10, 4, 11]])\n",
        "rect_2 = np.array([[10, 20, 140, 150], [2, 9, 5, 12], [5, 12, 10, 20]])\n",
        "iou = compute_iou(rect_1, rect_2)\n",
        "print(iou)"
      ],
      "metadata": {
        "colab": {
          "base_uri": "https://localhost:8080/"
        },
        "id": "_LyDvJu2uV_k",
        "outputId": "28ae4c7b-f2d5-4e8d-92e8-84d9d7dbf170"
      },
      "execution_count": 3,
      "outputs": [
        {
          "output_type": "stream",
          "name": "stdout",
          "text": [
            "[1.  0.2 0. ]\n"
          ]
        }
      ]
    },
    {
      "cell_type": "code",
      "source": [],
      "metadata": {
        "id": "KswQNlRC4bGI"
      },
      "execution_count": null,
      "outputs": []
    }
  ]
}