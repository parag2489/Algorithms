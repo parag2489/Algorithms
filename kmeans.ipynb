{
  "nbformat": 4,
  "nbformat_minor": 0,
  "metadata": {
    "colab": {
      "provenance": [],
      "authorship_tag": "ABX9TyNcQ9wE01wrQ8H0/HFaYJSH",
      "include_colab_link": true
    },
    "kernelspec": {
      "name": "python3",
      "display_name": "Python 3"
    },
    "language_info": {
      "name": "python"
    }
  },
  "cells": [
    {
      "cell_type": "markdown",
      "metadata": {
        "id": "view-in-github",
        "colab_type": "text"
      },
      "source": [
        "<a href=\"https://colab.research.google.com/github/parag2489/Algorithms/blob/master/kmeans.ipynb\" target=\"_parent\"><img src=\"https://colab.research.google.com/assets/colab-badge.svg\" alt=\"Open In Colab\"/></a>"
      ]
    },
    {
      "cell_type": "code",
      "execution_count": 1,
      "metadata": {
        "id": "_i5BNZ-4ZL-q"
      },
      "outputs": [],
      "source": [
        "import numpy as np"
      ]
    },
    {
      "cell_type": "code",
      "source": [
        "class KMeans:\n",
        "  \"\"\"KMeans class.\"\"\"\n",
        "\n",
        "  def __init__(self, k: int, tolerance: float = 1e-3, max_iter: int = 1000):\n",
        "    self.k = k\n",
        "    self.tolerance = tolerance\n",
        "    self.max_iter = max_iter\n",
        "\n",
        "  def init_centroids(self, x):\n",
        "    indices = list(range(x.shape[0]))\n",
        "    np.random.shuffle(indices)\n",
        "    indices = indices[:self.k]\n",
        "    return x[indices, :]\n",
        "\n",
        "  def compute_memberships(self, x, centroids):\n",
        "    x = x.reshape((-1, 1, x.shape[-1]))\n",
        "    centroids = centroids.reshape((1, -1, centroids.shape[-1]))\n",
        "    distance = np.sum((x - centroids) ** 2, axis=-1)\n",
        "    memberships = np.argmin(distance, axis=-1)\n",
        "    return memberships\n",
        "\n",
        "  def compute_centroids(self, x, memberships):\n",
        "    centroids = np.zeros((self.k, x.shape[-1]))\n",
        "    for i in range(self.k):\n",
        "      if any(memberships == i):\n",
        "        centroids[i, :] = np.mean(x[memberships == i], axis=0)\n",
        "    return centroids\n",
        "\n",
        "  def compute_rss(self, x, memberships, centroids):\n",
        "    rss = 0\n",
        "    for i in range(self.k):\n",
        "      if any(memberships == i):\n",
        "        rss += np.sum(abs(x[memberships == i] - centroids[i]))\n",
        "\n",
        "    return rss\n",
        "\n",
        "  def __call__(self, x):\n",
        "    error = float(\"inf\")\n",
        "    rss = 1e9\n",
        "    iteration = 0\n",
        "    centroids = self.init_centroids(x)\n",
        "    while error > self.tolerance or iteration >= self.max_iter:\n",
        "      prev_rss = rss\n",
        "      memberships = self.compute_memberships(x, centroids)\n",
        "      new_centroids = self.compute_centroids(x, memberships)\n",
        "      rss = self.compute_rss(x, memberships, new_centroids)\n",
        "      centroids = new_centroids\n",
        "      error = abs(rss - prev_rss)\n",
        "      iteration += 1\n",
        "    return memberships, centroids"
      ],
      "metadata": {
        "id": "6U1N_ZSpZRLj"
      },
      "execution_count": 10,
      "outputs": []
    },
    {
      "cell_type": "code",
      "source": [
        "kmeans = KMeans(4)\n",
        "data = np.vstack((np.random.randint(0, 10, (5, 4)), np.random.randint(16, 18, (5, 4)), np.random.randint(20, 25, (5, 4)), np.random.randint(32, 36, (5, 4)))).astype(np.float32)\n",
        "memberships, centroids = kmeans(data)\n",
        "print(data)\n",
        "print(memberships)\n",
        "print(centroids)"
      ],
      "metadata": {
        "colab": {
          "base_uri": "https://localhost:8080/"
        },
        "id": "SO0rEQXUhNM0",
        "outputId": "311fd0e2-43a1-4666-e9b5-58f56f2fbf58"
      },
      "execution_count": 13,
      "outputs": [
        {
          "output_type": "stream",
          "name": "stdout",
          "text": [
            "[[ 6.  0.  7.  4.]\n",
            " [ 0.  7.  9.  7.]\n",
            " [ 6.  1.  4.  5.]\n",
            " [ 4.  4.  0.  2.]\n",
            " [ 1.  9.  2.  8.]\n",
            " [17. 16. 17. 16.]\n",
            " [16. 17. 17. 17.]\n",
            " [16. 17. 17. 16.]\n",
            " [17. 16. 17. 17.]\n",
            " [17. 17. 17. 16.]\n",
            " [21. 24. 23. 24.]\n",
            " [21. 20. 20. 24.]\n",
            " [23. 23. 21. 21.]\n",
            " [22. 23. 23. 21.]\n",
            " [23. 24. 24. 20.]\n",
            " [32. 33. 34. 35.]\n",
            " [33. 32. 35. 34.]\n",
            " [35. 33. 32. 35.]\n",
            " [35. 34. 35. 33.]\n",
            " [33. 35. 34. 35.]]\n",
            "[0 0 0 0 0 3 3 3 3 3 2 2 2 2 2 1 1 1 1 1]\n",
            "[[ 3.4000001   4.19999981  4.4000001   5.19999981]\n",
            " [33.59999847 33.40000153 34.         34.40000153]\n",
            " [22.         22.79999924 22.20000076 22.        ]\n",
            " [16.60000038 16.60000038 17.         16.39999962]]\n"
          ]
        }
      ]
    },
    {
      "cell_type": "code",
      "source": [],
      "metadata": {
        "id": "Eu8ta3Xpht84"
      },
      "execution_count": null,
      "outputs": []
    }
  ]
}