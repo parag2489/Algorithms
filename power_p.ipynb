{
  "nbformat": 4,
  "nbformat_minor": 0,
  "metadata": {
    "colab": {
      "provenance": [],
      "authorship_tag": "ABX9TyOYl8DvSseAx38mApjjqfmo",
      "include_colab_link": true
    },
    "kernelspec": {
      "name": "python3",
      "display_name": "Python 3"
    },
    "language_info": {
      "name": "python"
    }
  },
  "cells": [
    {
      "cell_type": "markdown",
      "metadata": {
        "id": "view-in-github",
        "colab_type": "text"
      },
      "source": [
        "<a href=\"https://colab.research.google.com/github/parag2489/Algorithms/blob/master/power_p.ipynb\" target=\"_parent\"><img src=\"https://colab.research.google.com/assets/colab-badge.svg\" alt=\"Open In Colab\"/></a>"
      ]
    },
    {
      "cell_type": "code",
      "execution_count": 1,
      "metadata": {
        "id": "x3kAXnqSnsvl"
      },
      "outputs": [],
      "source": [
        "import numpy as np"
      ]
    },
    {
      "cell_type": "code",
      "source": [
        "def compute_power(x, p):\n",
        "  guess = x\n",
        "  iterations = 1000\n",
        "  step_size = 0.001\n",
        "  for _ in range(iterations):\n",
        "    guess -= step_size * (guess ** (1/p) - x)\n",
        "  return guess\n",
        "\n",
        "print(compute_power(27, 1/3))\n"
      ],
      "metadata": {
        "colab": {
          "base_uri": "https://localhost:8080/"
        },
        "id": "QH3OnzGIn2zM",
        "outputId": "cac4ef66-8d67-4143-f1bb-3553cf9e6ef6"
      },
      "execution_count": 45,
      "outputs": [
        {
          "output_type": "stream",
          "name": "stdout",
          "text": [
            "3.0000000000020983\n"
          ]
        }
      ]
    },
    {
      "cell_type": "code",
      "source": [],
      "metadata": {
        "id": "0AHTT2VmtbiZ"
      },
      "execution_count": null,
      "outputs": []
    }
  ]
}