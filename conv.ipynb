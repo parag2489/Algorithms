{
  "nbformat": 4,
  "nbformat_minor": 0,
  "metadata": {
    "colab": {
      "provenance": [],
      "authorship_tag": "ABX9TyM1QBmtItL2KUIr+K4WrNkJ",
      "include_colab_link": true
    },
    "kernelspec": {
      "name": "python3",
      "display_name": "Python 3"
    },
    "language_info": {
      "name": "python"
    }
  },
  "cells": [
    {
      "cell_type": "markdown",
      "metadata": {
        "id": "view-in-github",
        "colab_type": "text"
      },
      "source": [
        "<a href=\"https://colab.research.google.com/github/parag2489/Algorithms/blob/master/conv.ipynb\" target=\"_parent\"><img src=\"https://colab.research.google.com/assets/colab-badge.svg\" alt=\"Open In Colab\"/></a>"
      ]
    },
    {
      "cell_type": "code",
      "execution_count": 6,
      "metadata": {
        "id": "BaFj3PutOWZ4"
      },
      "outputs": [],
      "source": [
        "from enum import Enum\n",
        "from typing import Tuple\n",
        "\n",
        "import numpy as np\n",
        "from torch import nn"
      ]
    },
    {
      "cell_type": "code",
      "source": [
        "class Padding(Enum):\n",
        "  VALID = \"valid\"\n",
        "  SAME = \"same\"\n",
        "\n",
        "\n",
        "class Conv2D:\n",
        "  \"\"\"Convolution class.\"\"\"\n",
        "\n",
        "  def __init__(self, kernel_size: Tuple[int, int], stride: Tuple[int, int], padding: Padding, out_channels: int) -> None:\n",
        "    \"\"\"Initialization.\"\"\"\n",
        "    self.kernel_size = kernel_size\n",
        "    self.stride = stride\n",
        "    self.padding = padding\n",
        "    self.out_channels = out_channels\n",
        "\n",
        "  def _prepare_conv_weight_kernel(self, in_channels: int):\n",
        "    weights = np.ones((self.out_channels, in_channels, *self.kernel_size), dtype=np.float32)\n",
        "    return weights\n",
        "\n",
        "  def _compute_output_dim(self, dim: int, kernel_dim: int, stride_dim: int, padding_dim: int) -> int:\n",
        "    \"\"\"Compute output height or width.\"\"\"\n",
        "    out_dim = (dim - kernel_dim + 2 * padding_dim) // stride_dim + 1\n",
        "    return out_dim\n",
        "\n",
        "  def __call__(self, x: np.ndarray) -> np.ndarray:\n",
        "    \"\"\"Run convolution.\"\"\"\n",
        "    padding_amount = (0, 0)\n",
        "    if self.padding is Padding.SAME:\n",
        "      padding_amount = (self.kernel_size[0] // 2, self.kernel_size[1] // 2)\n",
        "\n",
        "    self.weights = self._prepare_conv_weight_kernel(in_channels=x.shape[1])\n",
        "    out = np.zeros((x.shape[0], self.out_channels, self._compute_output_dim(x.shape[2], self.kernel_size[0], self.stride[0], padding_amount[0]), self._compute_output_dim(x.shape[3], self.kernel_size[1], self.stride[1], padding_amount[1])))\n",
        "\n",
        "    for i in range(out.shape[2]):\n",
        "      for j in range(out.shape[3]):\n",
        "        out[:, :, i, j] = np.sum(x[:, None, :, i * self.stride[0] : i * self.stride[0] + self.kernel_size[0], j * self.stride[1] : j * self.stride[1] + self.kernel_size[1]] * self.weights[None, ...], axis=(2, 3, 4))\n",
        "\n",
        "    return out\n",
        "\n"
      ],
      "metadata": {
        "id": "FE1I7cC5ObyK"
      },
      "execution_count": 59,
      "outputs": []
    },
    {
      "cell_type": "code",
      "source": [
        "conv_input = np.random.randint(0, 10, (2, 3, 10, 10))\n",
        "conv = Conv2D(kernel_size=(3, 3), stride=(2, 2), padding=Padding.VALID, out_channels=5)\n",
        "out = conv(conv_input)\n",
        "\n",
        "print(conv_input)\n",
        "print(out[0, 0, 1, 1])\n",
        "np.sum(conv_input[0, :, 2:5, 2:5] * np.ones((1, 3, 3, 3)))"
      ],
      "metadata": {
        "colab": {
          "base_uri": "https://localhost:8080/"
        },
        "id": "qOOT57XFPB9d",
        "outputId": "d46a3471-1ccd-4aac-b4ff-0440be5a0b69"
      },
      "execution_count": 86,
      "outputs": [
        {
          "output_type": "stream",
          "name": "stdout",
          "text": [
            "[[[[2 5 6 0 7 7 8 5 0 5]\n",
            "   [6 9 6 8 5 6 4 8 7 6]\n",
            "   [4 0 5 5 2 3 5 6 7 0]\n",
            "   [8 6 3 4 2 9 8 0 3 2]\n",
            "   [7 4 5 3 4 4 7 0 7 6]\n",
            "   [9 3 1 8 9 1 6 8 1 2]\n",
            "   [9 8 4 9 4 8 0 2 0 8]\n",
            "   [5 6 4 0 2 1 0 5 0 1]\n",
            "   [7 6 4 6 7 9 5 6 8 7]\n",
            "   [3 7 9 9 9 5 6 8 2 7]]\n",
            "\n",
            "  [[3 1 9 3 7 0 5 1 0 8]\n",
            "   [5 0 6 8 6 8 9 4 6 8]\n",
            "   [3 6 5 2 9 8 2 7 0 9]\n",
            "   [4 0 3 1 3 3 5 7 3 8]\n",
            "   [7 7 0 5 5 4 4 6 1 1]\n",
            "   [8 1 6 5 6 4 6 8 3 0]\n",
            "   [3 7 8 1 1 1 8 4 9 4]\n",
            "   [8 6 6 8 3 9 4 1 4 5]\n",
            "   [8 4 9 9 5 5 6 4 7 4]\n",
            "   [1 6 7 4 7 9 4 9 6 1]]\n",
            "\n",
            "  [[9 1 3 4 2 1 8 6 8 9]\n",
            "   [0 0 2 7 5 8 4 7 4 5]\n",
            "   [1 5 2 4 8 1 1 2 6 3]\n",
            "   [3 2 9 1 7 0 1 2 8 9]\n",
            "   [3 1 6 4 8 4 2 9 9 9]\n",
            "   [9 3 9 8 9 5 9 1 2 7]\n",
            "   [6 0 0 8 8 9 2 6 9 4]\n",
            "   [0 8 2 3 8 1 0 7 4 1]\n",
            "   [8 0 9 9 5 8 0 8 0 2]\n",
            "   [3 5 8 0 1 4 8 6 2 2]]]\n",
            "\n",
            "\n",
            " [[[2 6 4 1 4 3 4 6 8 3]\n",
            "   [1 1 1 1 6 3 0 5 2 3]\n",
            "   [2 8 7 0 6 6 9 6 9 5]\n",
            "   [7 2 8 1 9 7 5 2 9 9]\n",
            "   [6 1 6 0 0 0 4 6 3 9]\n",
            "   [8 7 1 4 8 6 9 7 5 1]\n",
            "   [3 3 5 9 0 4 7 3 7 8]\n",
            "   [6 9 6 2 3 7 9 5 2 6]\n",
            "   [7 6 1 0 2 6 7 5 2 3]\n",
            "   [2 2 8 4 1 6 7 8 0 2]]\n",
            "\n",
            "  [[3 0 1 9 9 7 6 6 3 1]\n",
            "   [6 0 9 7 3 8 9 3 6 2]\n",
            "   [0 9 9 3 5 6 0 8 9 9]\n",
            "   [0 6 3 0 2 2 4 0 9 3]\n",
            "   [1 6 8 3 5 3 9 7 2 3]\n",
            "   [6 3 9 3 0 8 4 5 5 3]\n",
            "   [2 6 0 9 5 4 6 3 8 2]\n",
            "   [1 9 2 9 8 4 6 9 1 0]\n",
            "   [5 5 0 7 4 1 1 0 7 6]\n",
            "   [3 3 4 8 7 8 8 2 7 8]]\n",
            "\n",
            "  [[6 0 2 4 0 9 7 2 0 2]\n",
            "   [8 0 0 4 2 0 1 3 6 7]\n",
            "   [0 5 8 8 0 3 7 7 1 1]\n",
            "   [7 9 0 3 3 4 5 0 7 0]\n",
            "   [9 9 7 7 9 4 7 9 7 2]\n",
            "   [5 9 2 8 4 1 0 8 5 5]\n",
            "   [4 1 7 0 6 1 2 9 4 3]\n",
            "   [1 1 3 8 4 7 3 3 4 4]\n",
            "   [1 5 9 4 6 7 0 2 0 1]\n",
            "   [8 9 5 1 8 7 2 2 6 3]]]]\n",
            "115.0\n"
          ]
        },
        {
          "output_type": "execute_result",
          "data": {
            "text/plain": [
              "115.0"
            ]
          },
          "metadata": {},
          "execution_count": 86
        }
      ]
    },
    {
      "cell_type": "code",
      "source": [
        "def convolve(image, kernel, stride):\n",
        "  # We start off by defining some constants, which are required for this code\n",
        "  kernelH, kernelW = kernel.shape\n",
        "  imageH, imageW = image.shape\n",
        "  stride_h, stride_w = stride\n",
        "  h, w = (imageH - kernelH) // stride_h + 1 , (imageW - kernelW) // stride_w + 1\n",
        "  print(h, w)\n",
        "\n",
        "  # filter1 creates an index system that calculates the sum of the x and y indices at each point\n",
        "  # Shape of filter1 is h x kernelH\n",
        "  filter1 = np.arange(imageH - kernelH + 1, step=stride_h)[:, None] + np.arange(kernelH)\n",
        "  print(filter1)\n",
        "\n",
        "  # intermediate is the stepped data, which has the shape h x kernelH x imageW\n",
        "  intermediate = image[filter1]\n",
        "  print(intermediate.shape)\n",
        "\n",
        "  # transpose the inner dimensions of the intermediate so as to enact another filter\n",
        "  # shape is now h x imageW x kernelH\n",
        "  intermediate = np.transpose(intermediate, (0, 2, 1))  # (8, 16, 3)\n",
        "\n",
        "  # filter2 similarly creates an index system\n",
        "  # Shape of filter2 is w * kernelW\n",
        "  filter2 = np.arange(imageW - kernelW + 1, step=stride_w)[:, None] + np.arange(kernelW)\n",
        "  print(filter2)\n",
        "\n",
        "  # Apply filter2 on the inner data piecewise, resultant shape is h x w x kernelW x kernelH\n",
        "  intermediate = intermediate[:, filter2]\n",
        "  print(intermediate.shape)\n",
        "\n",
        "  # transpose inwards again to get a resultant shape of h x w x kernelH x kernelW\n",
        "  intermediate = np.transpose(intermediate, (0, 1, 3, 2))\n",
        "\n",
        "  # piecewise multiplication with kernel\n",
        "  print(intermediate.shape)\n",
        "  print(kernel.shape)\n",
        "  product = intermediate * kernel[None, None, ...]\n",
        "  print(product.shape)\n",
        "\n",
        "  # find the sum of each piecewise product, shape is now h x w\n",
        "  convolved = product.sum(axis = (2,3))\n",
        "\n",
        "  return convolved"
      ],
      "metadata": {
        "id": "nmqBlveO7TYy"
      },
      "execution_count": 195,
      "outputs": []
    },
    {
      "cell_type": "code",
      "source": [
        "conv_input = np.random.randint(0, 10, (1, 1, 10, 16))\n",
        "conv = Conv2D(kernel_size=(3, 5), stride=(1, 2), padding=Padding.VALID, out_channels=5)\n",
        "out = conv(conv_input)\n",
        "\n",
        "print(conv_input)\n",
        "print(out[0, 0])\n",
        "print(out.shape)\n",
        "np.sum(conv_input[0, :, 1:4, 1:6] * np.ones((1, 1, 3, 5)))"
      ],
      "metadata": {
        "colab": {
          "base_uri": "https://localhost:8080/"
        },
        "id": "Pfr24ByF-QqI",
        "outputId": "d116debb-8f04-40e1-a45c-3d3b84b87c05"
      },
      "execution_count": 196,
      "outputs": [
        {
          "output_type": "stream",
          "name": "stdout",
          "text": [
            "[[[[6 1 3 0 7 1 3 5 8 5 0 5 9 7 0 4]\n",
            "   [3 6 4 3 7 4 4 9 6 8 4 0 5 2 9 1]\n",
            "   [8 2 4 4 9 0 4 5 5 7 6 4 5 9 4 8]\n",
            "   [3 6 6 9 0 7 2 8 8 1 5 7 4 8 4 6]\n",
            "   [1 2 6 0 8 5 4 2 0 0 6 7 4 6 2 7]\n",
            "   [8 3 8 4 9 8 7 8 2 2 9 0 6 0 4 0]\n",
            "   [2 5 1 9 5 8 6 2 7 7 7 0 4 0 6 5]\n",
            "   [4 7 5 6 0 6 2 7 0 5 7 2 5 3 3 8]\n",
            "   [3 0 4 7 2 0 0 2 9 1 4 2 3 4 5 3]\n",
            "   [6 4 6 3 2 2 3 9 3 3 0 7 5 1 2 7]]]]\n",
            "[[67. 57. 77. 79. 77. 69.]\n",
            " [74. 67. 78. 82. 75. 76.]\n",
            " [68. 68. 67. 63. 69. 81.]\n",
            " [73. 83. 78. 64. 61. 72.]\n",
            " [71. 88. 81. 69. 61. 61.]\n",
            " [76. 84. 77. 78. 63. 56.]\n",
            " [60. 61. 56. 66. 63. 55.]\n",
            " [59. 48. 47. 55. 56. 53.]]\n",
            "(1, 5, 8, 6)\n"
          ]
        },
        {
          "output_type": "execute_result",
          "data": {
            "text/plain": [
              "71.0"
            ]
          },
          "metadata": {},
          "execution_count": 196
        }
      ]
    },
    {
      "cell_type": "code",
      "source": [
        "convolve(conv_input.reshape((10, 16)), np.ones((3, 5)), (1, 2)) == out[0][0]"
      ],
      "metadata": {
        "colab": {
          "base_uri": "https://localhost:8080/"
        },
        "id": "yOh1fd75-WoT",
        "outputId": "83589a4f-6459-4131-9602-3654f4b5d1f4"
      },
      "execution_count": 198,
      "outputs": [
        {
          "output_type": "stream",
          "name": "stdout",
          "text": [
            "8 6\n",
            "[[0 1 2]\n",
            " [1 2 3]\n",
            " [2 3 4]\n",
            " [3 4 5]\n",
            " [4 5 6]\n",
            " [5 6 7]\n",
            " [6 7 8]\n",
            " [7 8 9]]\n",
            "(8, 3, 16)\n",
            "[[ 0  1  2  3  4]\n",
            " [ 2  3  4  5  6]\n",
            " [ 4  5  6  7  8]\n",
            " [ 6  7  8  9 10]\n",
            " [ 8  9 10 11 12]\n",
            " [10 11 12 13 14]]\n",
            "(8, 6, 5, 3)\n",
            "(8, 6, 3, 5)\n",
            "(3, 5)\n",
            "(8, 6, 3, 5)\n"
          ]
        },
        {
          "output_type": "execute_result",
          "data": {
            "text/plain": [
              "array([[ True,  True,  True,  True,  True,  True],\n",
              "       [ True,  True,  True,  True,  True,  True],\n",
              "       [ True,  True,  True,  True,  True,  True],\n",
              "       [ True,  True,  True,  True,  True,  True],\n",
              "       [ True,  True,  True,  True,  True,  True],\n",
              "       [ True,  True,  True,  True,  True,  True],\n",
              "       [ True,  True,  True,  True,  True,  True],\n",
              "       [ True,  True,  True,  True,  True,  True]])"
            ]
          },
          "metadata": {},
          "execution_count": 198
        }
      ]
    },
    {
      "cell_type": "code",
      "source": [],
      "metadata": {
        "id": "h2_qYJtu-mJb"
      },
      "execution_count": null,
      "outputs": []
    }
  ]
}